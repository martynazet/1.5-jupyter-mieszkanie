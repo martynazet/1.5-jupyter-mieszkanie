{
 "cells": [
  {
   "cell_type": "markdown",
   "id": "0faf2b1b",
   "metadata": {},
   "source": [
    "Zadanie: kupujemy mieszkanie\n",
    "\n",
    "Zamierzasz kupić mieszkanie. Upatrzone M kosztuje w tym momencie 120 tys. zł, jednak przewidujesz, że przez następne 5 lat ceny mieszkań będą rosły w tempie 5% rocznie. W tym momencie nie dysponujesz wystarczającymi środkami, dlatego znajdujesz ofertę banku, który proponuje lokatę, do której dopłacasz pewna stałą kwotę na koniec każdego miesiąca. Bank oferuje nominalną stopę procentową w wysokości 12% w skali roku, przy kapitalizacji miesięcznej.\n",
    "\n",
    "1. Ile będzie wynosiła orientacyjna cena mieszkania za 5 lat?\n",
    "2. Ile musisz wpłacać do banku każdego miesiąca, aby przy przedstawionej ofercie uzbierać na mieszkanie w ciągu 5 lat?\n",
    "3. Stwórz wykres przedstawiający, jak w interwałach miesięcznych zmieniać się będzie cena mieszkania (liniowy wzrost w całym okresie) oraz wartość twojej lokaty."
   ]
  },
  {
   "cell_type": "markdown",
   "id": "df2f3eab",
   "metadata": {},
   "source": [
    "PARAMETRY WEJŚCIOWE"
   ]
  },
  {
   "cell_type": "code",
   "execution_count": 1,
   "id": "12df8c6d",
   "metadata": {},
   "outputs": [],
   "source": [
    "pv = 120000                        # cena obecna\n",
    "m_rate = 0.05                      # stopa wzrostu - mieszkanie\n",
    "years = 5                          # okres\n",
    "year_rate = 0.12                   # stopa nominalna roczna\n",
    "month_rate = year_rate / 12        # miesięczna stopa procentowa\n",
    "months = years * 12                # okres w miesiącach"
   ]
  },
  {
   "cell_type": "code",
   "execution_count": 2,
   "id": "22a6f0c1",
   "metadata": {},
   "outputs": [],
   "source": [
    "import numpy as np\n",
    "import numpy_financial as npf\n",
    "import matplotlib.pyplot as plt"
   ]
  },
  {
   "cell_type": "markdown",
   "id": "105f5963",
   "metadata": {},
   "source": [
    "OBLICZENIA"
   ]
  },
  {
   "cell_type": "markdown",
   "id": "6ae8a0bd",
   "metadata": {},
   "source": [
    "Przyszła wartość mieszkania za 5 lat:\n",
    "\n",
    "FV = PV * (1 + r)**n\n"
   ]
  },
  {
   "cell_type": "code",
   "execution_count": 3,
   "id": "4e41d7ac",
   "metadata": {},
   "outputs": [
    {
     "name": "stdout",
     "output_type": "stream",
     "text": [
      "Oriencyjna cena mieszkania za 5 lat: 153153.79 zł\n"
     ]
    }
   ],
   "source": [
    "fv = pv * (1 + m_rate)** years\n",
    "print(f'Oriencyjna cena mieszkania za 5 lat: {fv:.2f} zł')"
   ]
  },
  {
   "cell_type": "markdown",
   "id": "ab0fd64f",
   "metadata": {},
   "source": [
    "Miesięczna wpłata:\n",
    "\n"
   ]
  },
  {
   "cell_type": "code",
   "execution_count": 4,
   "id": "8a4b4cfe",
   "metadata": {},
   "outputs": [
    {
     "name": "stdout",
     "output_type": "stream",
     "text": [
      "Wymagana miesięczna wpłata: 1875.28 zł\n"
     ]
    }
   ],
   "source": [
    "pmt = npf.pmt(month_rate, months, 0, -fv)\n",
    "print(f'Wymagana miesięczna wpłata: {pmt:.2f} zł')"
   ]
  },
  {
   "cell_type": "markdown",
   "id": "fbf701ce",
   "metadata": {},
   "source": [
    "WIZUALIZACJA"
   ]
  },
  {
   "cell_type": "code",
   "execution_count": 5,
   "id": "278dbf67",
   "metadata": {},
   "outputs": [
    {
     "data": {
      "image/png": "[encoded data removed]",
      "text/plain": [
       "<Figure size 432x288 with 1 Axes>"
      ]
     },
     "metadata": {
      "needs_background": "light"
     },
     "output_type": "display_data"
    }
   ],
   "source": [
    "months_arr = np.arange(1, months + 1)\n",
    "fv_arr = pv * (1 + m_rate) ** (months_arr / 12)\n",
    "pmt_arr = npf.fv(month_rate, months_arr, -pmt, 0)\n",
    "\n",
    "plt.plot(months_arr, fv_arr, label='Cena mieszkania')\n",
    "plt.plot(months_arr, pmt_arr, label='Wartość lokaty')\n",
    "plt.xlabel('Miesiące')\n",
    "plt.ylabel('Wartość [PLN]')\n",
    "plt.title('Zmiana ceny mieszkania i wartości lokaty w czasie')\n",
    "plt.legend()\n",
    "plt.show()"
   ]
  },
  {
   "cell_type": "markdown",
   "id": "0cae95b9",
   "metadata": {},
   "source": [
    "PODSUMOWANIE"
   ]
  },
  {
   "cell_type": "markdown",
   "id": "138532e5",
   "metadata": {},
   "source": [
    "1. Orientacyjna cena mieszkania za 5 lat wynosi 153153.79 zł.\n",
    "2. Aby uzbierać na mieszkanie w ciągu 5 lat od zera, przy oprocentowaniu rocznym 12%, należy wpłacać miesięcznie 1875.28 zł."
   ]
  }
 ],
 "metadata": {
  "kernelspec": {
   "display_name": "Python 3 (ipykernel)",
   "language": "python",
   "name": "python3"
  },
  "language_info": {
   "codemirror_mode": {
    "name": "ipython",
    "version": 3
   },
   "file_extension": ".py",
   "mimetype": "text/x-python",
   "name": "python",
   "nbconvert_exporter": "python",
   "pygments_lexer": "ipython3",
   "version": "3.9.7"
  }
 },
 "nbformat": 4,
 "nbformat_minor": 5
}
